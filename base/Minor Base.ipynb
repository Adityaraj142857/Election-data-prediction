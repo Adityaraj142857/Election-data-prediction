{
  "nbformat": 4,
  "nbformat_minor": 0,
  "metadata": {
    "colab": {
      "name": "Anoop Base.ipynb",
      "provenance": [],
      "collapsed_sections": [],
      "machine_shape": "hm"
    },
    "kernelspec": {
      "name": "python3",
      "display_name": "Python 3"
    },
    "language_info": {
      "name": "python"
    },
    "accelerator": "TPU",
    "gpuClass": "standard"
  },
  "cells": [
    {
      "cell_type": "code",
      "source": [
        "cmap = ['vlag', 'gnuplot_r', 'Purples_r', 'Oranges', 'Greys', 'Spectral_r', 'tab20_r', 'RdYlBu', 'Reds_r', 'viridis', 'PuBu', 'RdPu_r', 'Wistia', 'Wistia_r', 'flag', 'PuOr', 'Set1_r', 'YlGnBu_r', 'autumn_r', 'bwr_r', 'Paired', 'RdYlGn', 'hot_r', 'PiYG_r', 'icefire_r', 'Set2_r', 'PuRd', 'Blues_r', 'OrRd', 'pink_r', 'gray_r', 'gist_yarg_r', 'gnuplot2_r', 'Dark2_r', 'rocket', 'gist_rainbow', 'BuPu_r', 'bwr','BuGn', 'PRGn_r', 'prism', 'gnuplot', 'YlGn', 'plasma', 'Pastel1_r', 'tab20c_r', 'PiYG', 'terrain_r','ocean', 'GnBu_r', 'Blues', 'brg_r', 'binary_r', 'gist_gray', 'rocket_r', 'gist_earth', 'cubehelix_r','Pastel2_r', 'Set3', 'Purples', 'afmhot_r', 'icefire', 'cool_r', 'seismic', 'gist_gray_r', 'flag_r','RdYlGn_r', 'Set2', 'Set3_r', 'jet', 'gray', 'rainbow_r', 'nipy_spectral', 'Reds', 'gist_heat_r', 'Dark2', 'inferno_r', 'viridis_r', 'spring', 'Accent', 'cividis_r', 'tab20b_r', 'terrain', 'YlOrBr', 'rainbow', 'magma', 'gist_ncar_r', 'gist_stern', 'Oranges_r', 'winter', 'bone_r', 'BuPu', 'magma_r', 'RdBu', 'binary', 'ocean_r', 'RdGy_r', 'gist_rainbow_r', 'BrBG_r', 'inferno', 'Accent_r', 'PuOr_r', 'YlOrBr_r', 'Paired_r', 'pink', 'Greens', 'plasma_r', 'tab20c', 'tab10_r', 'GnBu', 'hsv', 'YlOrRd', 'winter_r', 'Set1', 'YlOrRd_r', 'PuRd_r', 'prism_r', 'mako', 'cividis', 'CMRmap', 'RdGy', 'summer_r', 'coolwarm_r', 'YlGn_r', 'bone', 'gnuplot2', 'BuGn_r', 'PuBuGn', 'copper_r', 'tab20b', 'RdBu_r', 'PRGn', 'jet_r', 'gist_ncar', 'PuBu_r', 'Pastel1', 'hot', 'copper', 'YlGnBu', 'brg', 'Pastel2', 'tab10', 'Greens_r', 'cubehelix', 'Greys_r', 'spring_r', 'tab20', 'gist_stern_r', 'vlag_r', 'PuBuGn_r', 'gist_earth_r', 'mako_r', 'cool', 'hsv_r','nipy_spectral_r', 'gist_yarg', 'OrRd_r', 'seismic_r', 'afmhot', 'summer', 'coolwarm', 'CMRmap_r', 'Spectral', 'BrBG', 'gist_heat', 'RdPu', 'RdYlBu_r', 'autumn']"
      ],
      "metadata": {
        "id": "X6pL_KrkI8t-"
      },
      "execution_count": 40,
      "outputs": []
    },
    {
      "cell_type": "code",
      "execution_count": 41,
      "metadata": {
        "colab": {
          "base_uri": "https://localhost:8080/"
        },
        "id": "QP41mAWgvvb3",
        "outputId": "2c849708-39d3-4d99-8ba4-6cec418e7605"
      },
      "outputs": [
        {
          "output_type": "stream",
          "name": "stdout",
          "text": [
            "Drive already mounted at /content/drive; to attempt to forcibly remount, call drive.mount(\"/content/drive\", force_remount=True).\n"
          ]
        }
      ],
      "source": [
        "from google.colab import drive\n",
        "drive.mount('/content/drive')"
      ]
    },
    {
      "cell_type": "code",
      "execution_count": 42,
      "metadata": {
        "id": "9o0KrKE6sRok"
      },
      "outputs": [],
      "source": [
        "import os# Importing the OS for doing systme operation\n",
        "import pandas as pd #import pandas for data manipulation\n",
        "import matplotlib.pyplot as ploting # import matplotlib and seaborn #for data visualization\n",
        "ploting.rc('figure',figsize=(17,13))# Setting The Size of PLOT\n",
        "import seaborn as sns# Importing the seaborn for data visualissation\n",
        "import numpy as np# Importing the basic liberary NUMPY\n",
        "import random# Importing the random\n",
        "import warnings#importing warnings for ignoring warnings \n",
        "warnings.filterwarnings(\"ignore\")#filteringi warings\n",
        "TRESHOLD_CORR = 0.01 # Setting the Thresold value for correlation matrix \n",
        "#for random"
      ]
    },
    {
      "cell_type": "markdown",
      "source": [
        "Graph Plotting\n",
        "\n",
        "---\n",
        "\n",
        "\n",
        "\n",
        "---\n",
        "\n"
      ],
      "metadata": {
        "id": "15mHCbv9IeCZ"
      }
    },
    {
      "cell_type": "code",
      "source": [
        "def show_count_plot(feature, title, df, size=1, ordered=True):\n",
        "    ### setting the figure size of the plot\n",
        "    f, ax = ploting.subplots(1,1, figsize=(4*size,4))\n",
        "    ### Getting the total lenth of df in float\n",
        "    total = float(len(df))\n",
        "    if ordered:\n",
        "        g = sns.countplot(df[feature], order = df[feature].value_counts().index[:50], palette=random.choice(cmap))\n",
        "    else:\n",
        "        g = sns.countplot(df[feature], palette=random.choice(cmap))\n",
        "        ### Setting the tittle of the plot\n",
        "    g.set_title(title)\n",
        "    ## If size given is greater than 2 then the labels automatically gets rotated\n",
        "    if(size > 2):\n",
        "      ### Here we are setting the X_ticks\n",
        "        ploting.xticks(rotation=90, size=8)\n",
        "\n",
        "    ploting.show() "
      ],
      "metadata": {
        "id": "myxO9RCCIhiL"
      },
      "execution_count": 43,
      "outputs": []
    },
    {
      "cell_type": "code",
      "source": [
        "from sklearn.metrics import confusion_matrix# Basic liberary for result showing\n",
        "from sklearn.metrics import classification_report# Basic liberary for model building   \n",
        "from sklearn.metrics import accuracy_score, precision_score, recall_score, f1_score, roc_auc_score \n",
        "import random\n",
        "\n",
        "def report_generator(y_tst , y_pred , title=\"Testing\" , rnd=2):                                                # defining the report Generation function\n",
        "    '''here we are generating the function to get the result with random colourised cmap of the confusion matrix'''\n",
        "\n",
        "    sentiment_classes = ['Negative','Positive']\n",
        "    print(\" \")\n",
        "    ploting.figure(figsize=(8,6))\n",
        "    ### for the figure size we are setting the size\n",
        "    sns.heatmap(confusion_matrix(y_tst, y_pred) ,cmap=random.choice(cmap), fmt = 'd' ,annot = True , xticklabels=sentiment_classes,yticklabels=sentiment_classes)\n",
        "    ploting.title(f'Confusion matrix {title}', fontsize=16)\n",
        "    # Setting the tittle of the plot\n",
        "    ploting.xlabel('Actual label', fontsize=12)\n",
        "    ### for the plot we are giving the Xlabel\n",
        "    ploting.ylabel('Predicted label', fontsize=12)\n",
        "    ### for the plot we are giving the Ylabel\n",
        "    print(classification_report(y_tst, y_pred))\n",
        "    ### Generating the classification report\n",
        "    print(\" \")\n",
        "    ### for the plot we are giving the Accuracy\n",
        "    accuracy = accuracy_score(y_tst, y_pred)\n",
        "    ### for the plot we are giving the accuracy\n",
        "    print(\"  \")\n",
        "    print(\"=\"*50)\n",
        "    print(f'{title} Accuracy   : {round(accuracy , rnd)}')\n",
        "    precision = precision_score(y_tst, y_pred,average='weighted')#estimating precision__score_\n",
        "    recall = recall_score(y_tst, y_pred,average='weighted')#estimating recall___score\n",
        "    f1score = f1_score(y_tst, y_pred,average='weighted')#esimaating f1_score\n",
        "    print(f'{title} precision  : {round(precision , rnd)}')\n",
        "    print(f'{title} recall     : {round(recall , rnd)}')\n",
        "    print(f'{title} f1score    : {round(f1score , rnd)}')\n",
        "    print(\"=\"*50)\n",
        "    print(\"  \")"
      ],
      "metadata": {
        "id": "Rf64SpWIJxdO"
      },
      "execution_count": 44,
      "outputs": []
    },
    {
      "cell_type": "markdown",
      "source": [
        "Loading the dataset\n",
        "\n",
        "---\n",
        "\n",
        "\n",
        "\n",
        "---\n",
        "\n"
      ],
      "metadata": {
        "id": "wLNJp8sXwM91"
      }
    },
    {
      "cell_type": "markdown",
      "source": [
        "This is the code for Unzipping the files containing dataset"
      ],
      "metadata": {
        "id": "l_Jzz0JXdPgT"
      }
    },
    {
      "cell_type": "code",
      "source": [
        "# import zipfile\n",
        "\n",
        "# zip_ref = zipfile.ZipFile(\"/content/drive/MyDrive/Anoop/archive (1).2.zip\", 'r')\n",
        "# zip_ref.extractall(\"/content/drive/MyDrive/Anoop/dataset\")\n",
        "# zip_ref.close()"
      ],
      "metadata": {
        "id": "u-Yy2vl0yzNI"
      },
      "execution_count": 45,
      "outputs": []
    },
    {
      "cell_type": "code",
      "source": [
        "stu_info = pd.read_csv('/content/drive/MyDrive/Anoop/dataset/studentInfo.csv')\n",
        "cources = pd.read_csv('/content/drive/MyDrive/Anoop/dataset/courses.csv')\n",
        "student_vle = pd.read_csv('/content/drive/MyDrive/Anoop/dataset/studentVle.csv').iloc[: , :-2]\n",
        "vle = pd.read_csv('/content/drive/MyDrive/Anoop/dataset/vle.csv').iloc[: , :-2]"
      ],
      "metadata": {
        "id": "nIKMHOomwMbF"
      },
      "execution_count": 46,
      "outputs": []
    },
    {
      "cell_type": "code",
      "source": [
        "print(stu_info.shape, cources.shape , student_vle.shape , vle.shape)"
      ],
      "metadata": {
        "colab": {
          "base_uri": "https://localhost:8080/"
        },
        "id": "C3czExeNwMSI",
        "outputId": "da29e67e-bd83-4a14-9baf-c714f2b8700a"
      },
      "execution_count": 47,
      "outputs": [
        {
          "output_type": "stream",
          "name": "stdout",
          "text": [
            "(32593, 12) (22, 3) (10655280, 4) (6364, 4)\n"
          ]
        }
      ]
    },
    {
      "cell_type": "code",
      "source": [
        "vle.head()"
      ],
      "metadata": {
        "colab": {
          "base_uri": "https://localhost:8080/",
          "height": 206
        },
        "id": "moXYpAb_DPm1",
        "outputId": "009c2eaa-80a6-466e-b9c6-070ee57c7d5c"
      },
      "execution_count": 48,
      "outputs": [
        {
          "output_type": "execute_result",
          "data": {
            "text/plain": [
              "   id_site code_module code_presentation activity_type\n",
              "0   546943         AAA             2013J      resource\n",
              "1   546712         AAA             2013J     oucontent\n",
              "2   546998         AAA             2013J      resource\n",
              "3   546888         AAA             2013J           url\n",
              "4   547035         AAA             2013J      resource"
            ],
            "text/html": [
              "\n",
              "  <div id=\"df-241a88db-54a3-4e2b-90d6-2dfbcf485aa9\">\n",
              "    <div class=\"colab-df-container\">\n",
              "      <div>\n",
              "<style scoped>\n",
              "    .dataframe tbody tr th:only-of-type {\n",
              "        vertical-align: middle;\n",
              "    }\n",
              "\n",
              "    .dataframe tbody tr th {\n",
              "        vertical-align: top;\n",
              "    }\n",
              "\n",
              "    .dataframe thead th {\n",
              "        text-align: right;\n",
              "    }\n",
              "</style>\n",
              "<table border=\"1\" class=\"dataframe\">\n",
              "  <thead>\n",
              "    <tr style=\"text-align: right;\">\n",
              "      <th></th>\n",
              "      <th>id_site</th>\n",
              "      <th>code_module</th>\n",
              "      <th>code_presentation</th>\n",
              "      <th>activity_type</th>\n",
              "    </tr>\n",
              "  </thead>\n",
              "  <tbody>\n",
              "    <tr>\n",
              "      <th>0</th>\n",
              "      <td>546943</td>\n",
              "      <td>AAA</td>\n",
              "      <td>2013J</td>\n",
              "      <td>resource</td>\n",
              "    </tr>\n",
              "    <tr>\n",
              "      <th>1</th>\n",
              "      <td>546712</td>\n",
              "      <td>AAA</td>\n",
              "      <td>2013J</td>\n",
              "      <td>oucontent</td>\n",
              "    </tr>\n",
              "    <tr>\n",
              "      <th>2</th>\n",
              "      <td>546998</td>\n",
              "      <td>AAA</td>\n",
              "      <td>2013J</td>\n",
              "      <td>resource</td>\n",
              "    </tr>\n",
              "    <tr>\n",
              "      <th>3</th>\n",
              "      <td>546888</td>\n",
              "      <td>AAA</td>\n",
              "      <td>2013J</td>\n",
              "      <td>url</td>\n",
              "    </tr>\n",
              "    <tr>\n",
              "      <th>4</th>\n",
              "      <td>547035</td>\n",
              "      <td>AAA</td>\n",
              "      <td>2013J</td>\n",
              "      <td>resource</td>\n",
              "    </tr>\n",
              "  </tbody>\n",
              "</table>\n",
              "</div>\n",
              "      <button class=\"colab-df-convert\" onclick=\"convertToInteractive('df-241a88db-54a3-4e2b-90d6-2dfbcf485aa9')\"\n",
              "              title=\"Convert this dataframe to an interactive table.\"\n",
              "              style=\"display:none;\">\n",
              "        \n",
              "  <svg xmlns=\"http://www.w3.org/2000/svg\" height=\"24px\"viewBox=\"0 0 24 24\"\n",
              "       width=\"24px\">\n",
              "    <path d=\"M0 0h24v24H0V0z\" fill=\"none\"/>\n",
              "    <path d=\"M18.56 5.44l.94 2.06.94-2.06 2.06-.94-2.06-.94-.94-2.06-.94 2.06-2.06.94zm-11 1L8.5 8.5l.94-2.06 2.06-.94-2.06-.94L8.5 2.5l-.94 2.06-2.06.94zm10 10l.94 2.06.94-2.06 2.06-.94-2.06-.94-.94-2.06-.94 2.06-2.06.94z\"/><path d=\"M17.41 7.96l-1.37-1.37c-.4-.4-.92-.59-1.43-.59-.52 0-1.04.2-1.43.59L10.3 9.45l-7.72 7.72c-.78.78-.78 2.05 0 2.83L4 21.41c.39.39.9.59 1.41.59.51 0 1.02-.2 1.41-.59l7.78-7.78 2.81-2.81c.8-.78.8-2.07 0-2.86zM5.41 20L4 18.59l7.72-7.72 1.47 1.35L5.41 20z\"/>\n",
              "  </svg>\n",
              "      </button>\n",
              "      \n",
              "  <style>\n",
              "    .colab-df-container {\n",
              "      display:flex;\n",
              "      flex-wrap:wrap;\n",
              "      gap: 12px;\n",
              "    }\n",
              "\n",
              "    .colab-df-convert {\n",
              "      background-color: #E8F0FE;\n",
              "      border: none;\n",
              "      border-radius: 50%;\n",
              "      cursor: pointer;\n",
              "      display: none;\n",
              "      fill: #1967D2;\n",
              "      height: 32px;\n",
              "      padding: 0 0 0 0;\n",
              "      width: 32px;\n",
              "    }\n",
              "\n",
              "    .colab-df-convert:hover {\n",
              "      background-color: #E2EBFA;\n",
              "      box-shadow: 0px 1px 2px rgba(60, 64, 67, 0.3), 0px 1px 3px 1px rgba(60, 64, 67, 0.15);\n",
              "      fill: #174EA6;\n",
              "    }\n",
              "\n",
              "    [theme=dark] .colab-df-convert {\n",
              "      background-color: #3B4455;\n",
              "      fill: #D2E3FC;\n",
              "    }\n",
              "\n",
              "    [theme=dark] .colab-df-convert:hover {\n",
              "      background-color: #434B5C;\n",
              "      box-shadow: 0px 1px 3px 1px rgba(0, 0, 0, 0.15);\n",
              "      filter: drop-shadow(0px 1px 2px rgba(0, 0, 0, 0.3));\n",
              "      fill: #FFFFFF;\n",
              "    }\n",
              "  </style>\n",
              "\n",
              "      <script>\n",
              "        const buttonEl =\n",
              "          document.querySelector('#df-241a88db-54a3-4e2b-90d6-2dfbcf485aa9 button.colab-df-convert');\n",
              "        buttonEl.style.display =\n",
              "          google.colab.kernel.accessAllowed ? 'block' : 'none';\n",
              "\n",
              "        async function convertToInteractive(key) {\n",
              "          const element = document.querySelector('#df-241a88db-54a3-4e2b-90d6-2dfbcf485aa9');\n",
              "          const dataTable =\n",
              "            await google.colab.kernel.invokeFunction('convertToInteractive',\n",
              "                                                     [key], {});\n",
              "          if (!dataTable) return;\n",
              "\n",
              "          const docLinkHtml = 'Like what you see? Visit the ' +\n",
              "            '<a target=\"_blank\" href=https://colab.research.google.com/notebooks/data_table.ipynb>data table notebook</a>'\n",
              "            + ' to learn more about interactive tables.';\n",
              "          element.innerHTML = '';\n",
              "          dataTable['output_type'] = 'display_data';\n",
              "          await google.colab.output.renderOutput(dataTable, element);\n",
              "          const docLink = document.createElement('div');\n",
              "          docLink.innerHTML = docLinkHtml;\n",
              "          element.appendChild(docLink);\n",
              "        }\n",
              "      </script>\n",
              "    </div>\n",
              "  </div>\n",
              "  "
            ]
          },
          "metadata": {},
          "execution_count": 48
        }
      ]
    },
    {
      "cell_type": "code",
      "source": [
        "print(stu_info.columns,\"\\n\", cources.columns ,\"\\n \", student_vle.columns ,\"\\n \", vle.columns)"
      ],
      "metadata": {
        "colab": {
          "base_uri": "https://localhost:8080/"
        },
        "id": "-BHoNVQwwMO6",
        "outputId": "8bd2dde4-1429-4f9d-aee3-9dd548bcf021"
      },
      "execution_count": 49,
      "outputs": [
        {
          "output_type": "stream",
          "name": "stdout",
          "text": [
            "Index(['code_module', 'code_presentation', 'id_student', 'gender', 'region',\n",
            "       'highest_education', 'imd_band', 'age_band', 'num_of_prev_attempts',\n",
            "       'studied_credits', 'disability', 'final_result'],\n",
            "      dtype='object') \n",
            " Index(['code_module', 'code_presentation', 'module_presentation_length'], dtype='object') \n",
            "  Index(['code_module', 'code_presentation', 'id_student', 'id_site'], dtype='object') \n",
            "  Index(['id_site', 'code_module', 'code_presentation', 'activity_type'], dtype='object')\n"
          ]
        }
      ]
    },
    {
      "cell_type": "code",
      "source": [
        "from functools import reduce\n",
        "data_frames = [stu_info, cources , student_vle , vle]"
      ],
      "metadata": {
        "id": "sREIh1V1Wqpb"
      },
      "execution_count": 50,
      "outputs": []
    },
    {
      "cell_type": "code",
      "source": [
        "# Merging Tables\n",
        "result1 = pd.merge(stu_info, cources, left_on=('code_module','code_presentation'), right_on=('code_module','code_presentation'),how='left', sort=False)"
      ],
      "metadata": {
        "id": "2uaWVfsA6yy3"
      },
      "execution_count": 51,
      "outputs": []
    },
    {
      "cell_type": "code",
      "source": [
        "result = pd.merge(result1, student_vle, on=[\"code_module\" , \"code_presentation\", \"id_student\"] , how='left')"
      ],
      "metadata": {
        "id": "lhcxlt8t78Ko"
      },
      "execution_count": 52,
      "outputs": []
    },
    {
      "cell_type": "code",
      "source": [
        "df = pd.merge(result, vle,  on=[\"code_module\",\"code_presentation\",\"id_site\"] , how='left').groupby('final_result', group_keys=False).apply(lambda x: x.sample(8500))"
      ],
      "metadata": {
        "id": "jvgRxXlrwlUS"
      },
      "execution_count": 53,
      "outputs": []
    },
    {
      "cell_type": "code",
      "source": [
        "from sklearn.preprocessing import LabelEncoder\n",
        "\n",
        "le = LabelEncoder()"
      ],
      "metadata": {
        "id": "ApieHX7ioVqk"
      },
      "execution_count": 54,
      "outputs": []
    },
    {
      "cell_type": "code",
      "source": [
        "df.info()"
      ],
      "metadata": {
        "colab": {
          "base_uri": "https://localhost:8080/"
        },
        "id": "fgtNT4zT9aUP",
        "outputId": "e7667f0c-3ece-420d-bebc-8b1e247bea5c"
      },
      "execution_count": 55,
      "outputs": [
        {
          "output_type": "stream",
          "name": "stdout",
          "text": [
            "<class 'pandas.core.frame.DataFrame'>\n",
            "Int64Index: 34000 entries, 1040375 to 2566879\n",
            "Data columns (total 15 columns):\n",
            " #   Column                      Non-Null Count  Dtype  \n",
            "---  ------                      --------------  -----  \n",
            " 0   code_module                 34000 non-null  object \n",
            " 1   code_presentation           34000 non-null  object \n",
            " 2   id_student                  34000 non-null  int64  \n",
            " 3   gender                      34000 non-null  object \n",
            " 4   region                      34000 non-null  object \n",
            " 5   highest_education           34000 non-null  object \n",
            " 6   imd_band                    32215 non-null  object \n",
            " 7   age_band                    34000 non-null  object \n",
            " 8   num_of_prev_attempts        34000 non-null  int64  \n",
            " 9   studied_credits             34000 non-null  int64  \n",
            " 10  disability                  34000 non-null  object \n",
            " 11  final_result                34000 non-null  object \n",
            " 12  module_presentation_length  34000 non-null  int64  \n",
            " 13  id_site                     33982 non-null  float64\n",
            " 14  activity_type               33982 non-null  object \n",
            "dtypes: float64(1), int64(4), object(10)\n",
            "memory usage: 4.2+ MB\n"
          ]
        }
      ]
    },
    {
      "cell_type": "code",
      "source": [
        "df.isnull().sum() # show null value "
      ],
      "metadata": {
        "colab": {
          "base_uri": "https://localhost:8080/"
        },
        "id": "wMLQk1zCpqWu",
        "outputId": "62b38e8e-acb4-4b86-eda4-9d5089e9a6e4"
      },
      "execution_count": 56,
      "outputs": [
        {
          "output_type": "execute_result",
          "data": {
            "text/plain": [
              "code_module                      0\n",
              "code_presentation                0\n",
              "id_student                       0\n",
              "gender                           0\n",
              "region                           0\n",
              "highest_education                0\n",
              "imd_band                      1785\n",
              "age_band                         0\n",
              "num_of_prev_attempts             0\n",
              "studied_credits                  0\n",
              "disability                       0\n",
              "final_result                     0\n",
              "module_presentation_length       0\n",
              "id_site                         18\n",
              "activity_type                   18\n",
              "dtype: int64"
            ]
          },
          "metadata": {},
          "execution_count": 56
        }
      ]
    },
    {
      "cell_type": "code",
      "source": [
        "show_count_plot('activity_type' ,'Acticity type', df , 4)"
      ],
      "metadata": {
        "colab": {
          "base_uri": "https://localhost:8080/",
          "height": 348
        },
        "id": "x4t7zJz2IrOL",
        "outputId": "18526ea2-f108-4819-d57a-93ccdb8bcd87"
      },
      "execution_count": 57,
      "outputs": [
        {
          "output_type": "display_data",
          "data": {
            "text/plain": [
              "<Figure size 1152x288 with 1 Axes>"
            ],
            "image/png": "[encoded data removed]"
          },
          "metadata": {
            "needs_background": "light"
          }
        }
      ]
    },
    {
      "cell_type": "code",
      "source": [
        "df = pd.get_dummies(df, prefix='' , columns=['activity_type'])"
      ],
      "metadata": {
        "id": "3eVOCKIzYrZ4"
      },
      "execution_count": 58,
      "outputs": []
    },
    {
      "cell_type": "code",
      "source": [
        "df['code_module'] = le.fit_transform(df['code_module'])\n",
        "df['code_presentation'] = le.fit_transform(df['code_presentation'])\n",
        "df['gender'] = le.fit_transform(df['gender'])\n",
        "df['region'] = le.fit_transform(df['region'])\n",
        "df['highest_education'] = le.fit_transform(df['highest_education'])\n",
        "df['imd_band'] = le.fit_transform(df['imd_band'])\n",
        "df['age_band'] = le.fit_transform(df['age_band'])\n",
        "df['disability'] = le.fit_transform(df['disability'])"
      ],
      "metadata": {
        "id": "M4Rztd1No1Ex"
      },
      "execution_count": 59,
      "outputs": []
    },
    {
      "cell_type": "code",
      "source": [
        "data_frame = df.dropna(axis = 0)"
      ],
      "metadata": {
        "id": "n-rMt_nsr13C"
      },
      "execution_count": 60,
      "outputs": []
    },
    {
      "cell_type": "code",
      "source": [
        "data_frame.final_result.value_counts()"
      ],
      "metadata": {
        "colab": {
          "base_uri": "https://localhost:8080/"
        },
        "id": "6mf8Wea0sYm2",
        "outputId": "2119e6ca-432c-478c-d373-ee19d81c161f"
      },
      "execution_count": 61,
      "outputs": [
        {
          "output_type": "execute_result",
          "data": {
            "text/plain": [
              "Distinction    8500\n",
              "Pass           8500\n",
              "Fail           8499\n",
              "Withdrawn      8483\n",
              "Name: final_result, dtype: int64"
            ]
          },
          "metadata": {},
          "execution_count": 61
        }
      ]
    },
    {
      "cell_type": "code",
      "source": [
        "show_count_plot('final_result' , 'Final Results' , data_frame , 3)"
      ],
      "metadata": {
        "colab": {
          "base_uri": "https://localhost:8080/",
          "height": 329
        },
        "id": "TYLxhaChJRVH",
        "outputId": "c65a9954-ee3b-455e-cf5c-30d63f4bb292"
      },
      "execution_count": 62,
      "outputs": [
        {
          "output_type": "display_data",
          "data": {
            "text/plain": [
              "<Figure size 864x288 with 1 Axes>"
            ],
            "image/png": "[encoded data removed]"
          },
          "metadata": {
            "needs_background": "light"
          }
        }
      ]
    },
    {
      "cell_type": "code",
      "source": [
        "def result_labeling(y):\n",
        "  if y == 'Pass':\n",
        "    return 1\n",
        "  elif y == 'Distinction':\n",
        "    return 1\n",
        "  elif y == 'Fail':\n",
        "    return 0\n",
        "  elif y == 'Withdrawn':\n",
        "    return 0"
      ],
      "metadata": {
        "id": "DnQgTP8xsg3C"
      },
      "execution_count": 63,
      "outputs": []
    },
    {
      "cell_type": "code",
      "execution_count": 64,
      "metadata": {
        "id": "9KJ6MwBQrek5"
      },
      "outputs": [],
      "source": [
        "from tqdm import tqdm\n",
        "tqdm.pandas()"
      ]
    },
    {
      "cell_type": "code",
      "execution_count": 65,
      "metadata": {
        "id": "BFsWAhANq5x6",
        "colab": {
          "base_uri": "https://localhost:8080/"
        },
        "outputId": "9c58925b-bfb4-46e8-ad2e-c33c7e8bd3b9"
      },
      "outputs": [
        {
          "output_type": "stream",
          "name": "stderr",
          "text": [
            "100%|██████████| 33982/33982 [00:00<00:00, 580056.24it/s]\n"
          ]
        }
      ],
      "source": [
        "data_frame['final_result'] = data_frame['final_result'].progress_apply(lambda y: result_labeling(y))"
      ]
    },
    {
      "cell_type": "code",
      "source": [
        "show_count_plot('final_result' , 'Final Results' , data_frame , 3)"
      ],
      "metadata": {
        "colab": {
          "base_uri": "https://localhost:8080/",
          "height": 291
        },
        "id": "TEUSknbDJb-c",
        "outputId": "f9ec72b3-b565-401f-b5cd-326bc7fbbeee"
      },
      "execution_count": 66,
      "outputs": [
        {
          "output_type": "display_data",
          "data": {
            "text/plain": [
              "<Figure size 864x288 with 1 Axes>"
            ],
            "image/png": "[encoded data removed]"
          },
          "metadata": {
            "needs_background": "light"
          }
        }
      ]
    },
    {
      "cell_type": "code",
      "source": [
        "# Here we are diffrentiating the dependent variable and independent variable\n",
        "X = data_frame.drop([\"final_result\"],axis=1)\n",
        "# X --> independemt\n",
        "# Y --> dependemt\n",
        "y = data_frame[\"final_result\"]"
      ],
      "metadata": {
        "id": "z6Wh-CbFvAmK"
      },
      "execution_count": 67,
      "outputs": []
    },
    {
      "cell_type": "markdown",
      "source": [
        "Feature selection Method\n",
        "\n",
        "---\n",
        "\n",
        "\n",
        "\n",
        "---\n",
        "\n"
      ],
      "metadata": {
        "id": "phZZXcE2uGrQ"
      }
    },
    {
      "cell_type": "code",
      "source": [
        "from sklearn.ensemble import ExtraTreesClassifier\n",
        "from sklearn.feature_selection import SelectFromModel\n",
        "\n",
        "clf = ExtraTreesClassifier(n_estimators=100)\n",
        "clf = clf.fit(X, y)\n",
        "\n",
        "model = SelectFromModel(clf, prefit=True , max_features=19)\n",
        "X_new = model.transform(X)"
      ],
      "metadata": {
        "id": "k-GcFD6PDbxv"
      },
      "execution_count": 68,
      "outputs": []
    },
    {
      "cell_type": "code",
      "source": [
        "from sklearn.model_selection import train_test_split # For spliting the data into train test --> To verify the model accuracy\n",
        "x_trn, x_tst, y_trn, y_tst = train_test_split(X_new,y, test_size=0.2, random_state=0)\n",
        "#splitting data in test ,train in ratio 80:20 "
      ],
      "metadata": {
        "id": "mYtofdyPCGnf"
      },
      "execution_count": 69,
      "outputs": []
    },
    {
      "cell_type": "markdown",
      "source": [
        "Random Forest\n",
        "\n",
        "---\n",
        "\n",
        "\n",
        "\n",
        "---\n",
        "\n"
      ],
      "metadata": {
        "id": "f4WSeICMB3Oj"
      }
    },
    {
      "cell_type": "code",
      "source": [
        "from sklearn.metrics import confusion_matrix# Basic liberary for result showing\n",
        "from sklearn.metrics import classification_report# Basic liberary for model building   \n",
        "from sklearn.metrics import accuracy_score, precision_score, recall_score, f1_score, roc_auc_score "
      ],
      "metadata": {
        "id": "g-7tXSaxCf9W"
      },
      "execution_count": 70,
      "outputs": []
    },
    {
      "cell_type": "code",
      "source": [
        "from sklearn.ensemble import RandomForestClassifier\n",
        "\n",
        "rfc = RandomForestClassifier(random_state=0 , max_depth=50)\n",
        "rfc.fit(x_trn, y_trn)\n",
        "y_pred = rfc.predict(x_tst)"
      ],
      "metadata": {
        "id": "usiqPUEJBdWN"
      },
      "execution_count": 71,
      "outputs": []
    },
    {
      "cell_type": "code",
      "source": [
        "report_generator(y_tst , y_pred)"
      ],
      "metadata": {
        "colab": {
          "base_uri": "https://localhost:8080/",
          "height": 739
        },
        "id": "snSSztyJBfYS",
        "outputId": "cc0c4a18-c82c-4f26-c6ff-230b03521de4"
      },
      "execution_count": 72,
      "outputs": [
        {
          "output_type": "stream",
          "name": "stdout",
          "text": [
            " \n",
            "              precision    recall  f1-score   support\n",
            "\n",
            "           0       0.87      0.89      0.88      3416\n",
            "           1       0.89      0.87      0.88      3381\n",
            "\n",
            "    accuracy                           0.88      6797\n",
            "   macro avg       0.88      0.88      0.88      6797\n",
            "weighted avg       0.88      0.88      0.88      6797\n",
            "\n",
            " \n",
            "  \n",
            "==================================================\n",
            "Testing Accuracy   : 0.88\n",
            "Testing precision  : 0.88\n",
            "Testing recall     : 0.88\n",
            "Testing f1score    : 0.88\n",
            "==================================================\n",
            "  \n"
          ]
        },
        {
          "output_type": "display_data",
          "data": {
            "text/plain": [
              "<Figure size 576x432 with 2 Axes>"
            ],
            "image/png": "[encoded data removed]"
          },
          "metadata": {
            "needs_background": "light"
          }
        }
      ]
    },
    {
      "cell_type": "code",
      "source": [
        "y_predict = rfc.predict(x_trn)\n",
        "report_generator(y_trn , y_predict)"
      ],
      "metadata": {
        "colab": {
          "base_uri": "https://localhost:8080/",
          "height": 739
        },
        "id": "q9xLM4pNKFQL",
        "outputId": "6a952651-3614-4271-ccf1-1cf68dabf7bd"
      },
      "execution_count": 73,
      "outputs": [
        {
          "output_type": "stream",
          "name": "stdout",
          "text": [
            " \n",
            "              precision    recall  f1-score   support\n",
            "\n",
            "           0       1.00      1.00      1.00     13566\n",
            "           1       1.00      1.00      1.00     13619\n",
            "\n",
            "    accuracy                           1.00     27185\n",
            "   macro avg       1.00      1.00      1.00     27185\n",
            "weighted avg       1.00      1.00      1.00     27185\n",
            "\n",
            " \n",
            "  \n",
            "==================================================\n",
            "Testing Accuracy   : 1.0\n",
            "Testing precision  : 1.0\n",
            "Testing recall     : 1.0\n",
            "Testing f1score    : 1.0\n",
            "==================================================\n",
            "  \n"
          ]
        },
        {
          "output_type": "display_data",
          "data": {
            "text/plain": [
              "<Figure size 576x432 with 2 Axes>"
            ],
            "image/png": "[encoded data removed]"
          },
          "metadata": {
            "needs_background": "light"
          }
        }
      ]
    },
    {
      "cell_type": "markdown",
      "source": [
        "Naive bayes\n",
        "\n",
        "---\n",
        "\n",
        "\n",
        "\n",
        "---\n",
        "\n"
      ],
      "metadata": {
        "id": "lVdAUS5WJicq"
      }
    },
    {
      "cell_type": "code",
      "source": [
        "# train a Gaussian Naive Bayes classifier on the training set\n",
        "from sklearn.naive_bayes import GaussianNB , MultinomialNB\n",
        "# instantiate the model\n",
        "gnb = GaussianNB()\n",
        "# fit the model\n",
        "gnb.fit(x_trn, y_trn)\n",
        "y_predic = gnb.predict(x_tst)"
      ],
      "metadata": {
        "id": "nZlw-gDQMZxC"
      },
      "execution_count": 74,
      "outputs": []
    },
    {
      "cell_type": "code",
      "source": [
        "report_generator(y_tst , y_predic)"
      ],
      "metadata": {
        "colab": {
          "base_uri": "https://localhost:8080/",
          "height": 739
        },
        "id": "PWP0AstVK97h",
        "outputId": "1739d3cc-bda5-489f-a187-34eb89b2df0d"
      },
      "execution_count": 75,
      "outputs": [
        {
          "output_type": "stream",
          "name": "stdout",
          "text": [
            " \n",
            "              precision    recall  f1-score   support\n",
            "\n",
            "           0       0.59      0.36      0.45      3416\n",
            "           1       0.53      0.74      0.62      3381\n",
            "\n",
            "    accuracy                           0.55      6797\n",
            "   macro avg       0.56      0.55      0.53      6797\n",
            "weighted avg       0.56      0.55      0.53      6797\n",
            "\n",
            " \n",
            "  \n",
            "==================================================\n",
            "Testing Accuracy   : 0.55\n",
            "Testing precision  : 0.56\n",
            "Testing recall     : 0.55\n",
            "Testing f1score    : 0.53\n",
            "==================================================\n",
            "  \n"
          ]
        },
        {
          "output_type": "display_data",
          "data": {
            "text/plain": [
              "<Figure size 576x432 with 2 Axes>"
            ],
            "image/png": "[encoded data removed]"
          },
          "metadata": {
            "needs_background": "light"
          }
        }
      ]
    },
    {
      "cell_type": "code",
      "source": [
        "y_predict = gnb.predict(x_trn)\n",
        "report_generator(y_trn , y_predict)"
      ],
      "metadata": {
        "colab": {
          "base_uri": "https://localhost:8080/",
          "height": 739
        },
        "id": "CHDlRso9LB1z",
        "outputId": "31449f57-63f4-4818-b2ef-09747f8ab315"
      },
      "execution_count": 76,
      "outputs": [
        {
          "output_type": "stream",
          "name": "stdout",
          "text": [
            " \n",
            "              precision    recall  f1-score   support\n",
            "\n",
            "           0       0.58      0.35      0.44     13566\n",
            "           1       0.54      0.75      0.63     13619\n",
            "\n",
            "    accuracy                           0.55     27185\n",
            "   macro avg       0.56      0.55      0.53     27185\n",
            "weighted avg       0.56      0.55      0.53     27185\n",
            "\n",
            " \n",
            "  \n",
            "==================================================\n",
            "Testing Accuracy   : 0.55\n",
            "Testing precision  : 0.56\n",
            "Testing recall     : 0.55\n",
            "Testing f1score    : 0.53\n",
            "==================================================\n",
            "  \n"
          ]
        },
        {
          "output_type": "display_data",
          "data": {
            "text/plain": [
              "<Figure size 576x432 with 2 Axes>"
            ],
            "image/png": "[encoded data removed]"
          },
          "metadata": {
            "needs_background": "light"
          }
        }
      ]
    }
  ]
}